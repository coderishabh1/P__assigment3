{
 "cells": [
  {
   "cell_type": "code",
   "execution_count": 5,
   "id": "95b1e2d3",
   "metadata": {},
   "outputs": [
    {
     "name": "stdout",
     "output_type": "stream",
     "text": [
      "-3\n",
      "-3 is not a possitive number\n"
     ]
    }
   ],
   "source": [
    "#Ans \n",
    "a= int(input())\n",
    "if (a>0):\n",
    "    print(f'{a} is the possitive number')\n",
    "elif (a==0):\n",
    "    print(f'{a} is the zero')\n",
    "else:\n",
    "    print(f'{a} is not a possitive number')"
   ]
  },
  {
   "cell_type": "code",
   "execution_count": 7,
   "id": "901828fd",
   "metadata": {},
   "outputs": [
    {
     "name": "stdout",
     "output_type": "stream",
     "text": [
      "9\n",
      "9 is odd\n"
     ]
    }
   ],
   "source": [
    "#Ans\n",
    "a= int(input())\n",
    "if (a%2==0):\n",
    "    \n",
    "    print(f\"{a} is even\")\n",
    "else:\n",
    "    print(f'{a} is odd')\n",
    "          \n",
    "    "
   ]
  },
  {
   "cell_type": "code",
   "execution_count": 11,
   "id": "4405b092",
   "metadata": {},
   "outputs": [
    {
     "name": "stdout",
     "output_type": "stream",
     "text": [
      "2003\n",
      "2003 is not the leap year\n"
     ]
    }
   ],
   "source": [
    "# Ans \n",
    "year = int(input())\n",
    "if (year%400==0 or year%4==0):\n",
    "    print(f'{year} is the leap year')\n",
    "else:\n",
    "    print(f'{year} is not the leap year')"
   ]
  },
  {
   "cell_type": "code",
   "execution_count": 23,
   "id": "0d9f5408",
   "metadata": {
    "scrolled": true
   },
   "outputs": [
    {
     "name": "stdout",
     "output_type": "stream",
     "text": [
      "Enter a number: 12\n",
      "12 is not a prime number\n"
     ]
    }
   ],
   "source": [
    "#Ans \n",
    "num = int(input(\"Enter a number: \"))\n",
    "if num > 1: \n",
    "   for i in range(2,num):\n",
    "       if (num % i) == 0:\n",
    "           print(num,\"is not a prime number\")\n",
    "           break\n",
    "   else:\n",
    "       print(num,\"is a prime number\")\n",
    "else:\n",
    "   print(num,\"is not a prime number\")\n",
    "    "
   ]
  },
  {
   "cell_type": "code",
   "execution_count": 30,
   "id": "6470ffe4",
   "metadata": {},
   "outputs": [
    {
     "name": "stdout",
     "output_type": "stream",
     "text": [
      "Prime numbers between 2 and 10 are:\n",
      "2\n",
      "3\n",
      "5\n",
      "7\n"
     ]
    }
   ],
   "source": [
    "#Ans\n",
    "lower = 2\n",
    "upper = 10\n",
    "\n",
    "print(\"Prime numbers between\", lower, \"and\", upper, \"are:\")\n",
    "\n",
    "for num in range(lower, upper + 1):\n",
    "   # all prime numbers are greater than 1\n",
    "   if num > 1:\n",
    "       for i in range(2, num):\n",
    "           if (num % i) == 0:\n",
    "               break\n",
    "       else:\n",
    "           print(num)"
   ]
  },
  {
   "cell_type": "code",
   "execution_count": null,
   "id": "122e5980",
   "metadata": {},
   "outputs": [],
   "source": []
  },
  {
   "cell_type": "code",
   "execution_count": null,
   "id": "7737de72",
   "metadata": {},
   "outputs": [],
   "source": []
  }
 ],
 "metadata": {
  "kernelspec": {
   "display_name": "Python 3 (ipykernel)",
   "language": "python",
   "name": "python3"
  },
  "language_info": {
   "codemirror_mode": {
    "name": "ipython",
    "version": 3
   },
   "file_extension": ".py",
   "mimetype": "text/x-python",
   "name": "python",
   "nbconvert_exporter": "python",
   "pygments_lexer": "ipython3",
   "version": "3.9.12"
  }
 },
 "nbformat": 4,
 "nbformat_minor": 5
}
